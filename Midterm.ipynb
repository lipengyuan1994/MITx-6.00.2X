{
 "cells": [
  {
   "cell_type": "code",
   "execution_count": 126,
   "metadata": {},
   "outputs": [],
   "source": [
    "\n",
    "def greedySum(L, s):\n",
    "    \"\"\" input: s, positive integer, what the sum should add up to\n",
    "               L, list of unique positive integers sorted in descending order\n",
    "        Use the greedy approach where you find the largest multiplier for \n",
    "        the largest value in L then for the second largest, and so on to \n",
    "        solve the equation s = L[0]*m_0 + L[1]*m_1 + ... + L[n-1]*m_(n-1)\n",
    "        return: the sum of the multipliers or \"no solution\" if greedy approach does \n",
    "                not yield a set of multipliers such that the equation sums to 's'\n",
    "    \"\"\"\n",
    "   \n",
    "    import numpy as np\n",
    "    scopy = s \n",
    "    m_list  = []\n",
    "\n",
    "    for i in L:\n",
    "        m = s//i\n",
    "        s -= m*i\n",
    "        m_list.append(m)\n",
    "  \n",
    "    if sum([a*b for a,b in zip(L,m_list)]) == scopy:\n",
    "        return sum(m_list)\n",
    "    else:\n",
    "        return \"no solution\""
   ]
  },
  {
   "cell_type": "code",
   "execution_count": 127,
   "metadata": {},
   "outputs": [
    {
     "data": {
      "text/plain": [
       "10"
      ]
     },
     "execution_count": 127,
     "metadata": {},
     "output_type": "execute_result"
    }
   ],
   "source": [
    "greedySum ([3,2,1],30)"
   ]
  },
  {
   "cell_type": "code",
   "execution_count": 117,
   "metadata": {},
   "outputs": [],
   "source": [
    "l1 = [3,2,1]\n",
    "l2 = [5,5,5]\n"
   ]
  },
  {
   "cell_type": "code",
   "execution_count": 123,
   "metadata": {},
   "outputs": [
    {
     "name": "stdout",
     "output_type": "stream",
     "text": [
      "<zip object at 0x10dcbbcc8>\n"
     ]
    }
   ],
   "source": []
  },
  {
   "cell_type": "code",
   "execution_count": 120,
   "metadata": {},
   "outputs": [
    {
     "data": {
      "text/plain": [
       "30"
      ]
     },
     "execution_count": 120,
     "metadata": {},
     "output_type": "execute_result"
    }
   ],
   "source": [
    "sum([a*b for a,b in zip(l1,l2)])"
   ]
  },
  {
   "cell_type": "code",
   "execution_count": 59,
   "metadata": {},
   "outputs": [
    {
     "data": {
      "text/plain": [
       "6"
      ]
     },
     "execution_count": 59,
     "metadata": {},
     "output_type": "execute_result"
    }
   ],
   "source": [
    "30//5"
   ]
  },
  {
   "cell_type": "code",
   "execution_count": null,
   "metadata": {},
   "outputs": [],
   "source": []
  }
 ],
 "metadata": {
  "kernelspec": {
   "display_name": "Python 3",
   "language": "python",
   "name": "python3"
  },
  "language_info": {
   "codemirror_mode": {
    "name": "ipython",
    "version": 3
   },
   "file_extension": ".py",
   "mimetype": "text/x-python",
   "name": "python",
   "nbconvert_exporter": "python",
   "pygments_lexer": "ipython3",
   "version": "3.6.9"
  }
 },
 "nbformat": 4,
 "nbformat_minor": 4
}
