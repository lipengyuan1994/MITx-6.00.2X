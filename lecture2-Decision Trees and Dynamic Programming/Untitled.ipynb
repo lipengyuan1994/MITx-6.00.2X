{
 "cells": [
  {
   "cell_type": "code",
   "execution_count": 11,
   "metadata": {},
   "outputs": [
    {
     "name": "stdout",
     "output_type": "stream",
     "text": [
      "Menu contains 5 items\n",
      "Use search tree to allocate 750 calories\n",
      "Menu contains 10 items\n",
      "Use search tree to allocate 750 calories\n",
      "Menu contains 15 items\n",
      "Use search tree to allocate 750 calories\n",
      "Menu contains 20 items\n",
      "Use search tree to allocate 750 calories\n",
      "Menu contains 25 items\n",
      "Use search tree to allocate 750 calories\n",
      "Menu contains 30 items\n",
      "Use search tree to allocate 750 calories\n",
      "Menu contains 35 items\n",
      "Use search tree to allocate 750 calories\n",
      "Menu contains 40 items\n",
      "Use search tree to allocate 750 calories\n",
      "Menu contains 45 items\n",
      "Use search tree to allocate 750 calories\n",
      "Menu contains 50 items\n",
      "Use search tree to allocate 750 calories\n",
      "Menu contains 1024 items\n",
      "Use search tree to allocate 750 calories\n"
     ]
    }
   ],
   "source": [
    "%run segment3.py"
   ]
  },
  {
   "cell_type": "code",
   "execution_count": 12,
   "metadata": {},
   "outputs": [],
   "source": [
    "import sys"
   ]
  },
  {
   "cell_type": "code",
   "execution_count": 13,
   "metadata": {},
   "outputs": [
    {
     "data": {
      "text/plain": [
       "5000"
      ]
     },
     "execution_count": 13,
     "metadata": {},
     "output_type": "execute_result"
    }
   ],
   "source": [
    "sys.getrecursionlimit()"
   ]
  },
  {
   "cell_type": "code",
   "execution_count": 10,
   "metadata": {},
   "outputs": [],
   "source": [
    "sys.setrecursionlimit(5000)"
   ]
  },
  {
   "cell_type": "code",
   "execution_count": null,
   "metadata": {},
   "outputs": [],
   "source": []
  }
 ],
 "metadata": {
  "kernelspec": {
   "display_name": "Python 3",
   "language": "python",
   "name": "python3"
  },
  "language_info": {
   "codemirror_mode": {
    "name": "ipython",
    "version": 3
   },
   "file_extension": ".py",
   "mimetype": "text/x-python",
   "name": "python",
   "nbconvert_exporter": "python",
   "pygments_lexer": "ipython3",
   "version": "3.6.9"
  }
 },
 "nbformat": 4,
 "nbformat_minor": 4
}
