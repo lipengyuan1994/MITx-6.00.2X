{
 "cells": [
  {
   "cell_type": "markdown",
   "metadata": {},
   "source": [
    "# Exercise 1 | Lecture 2 - Decision Trees and Dynamic Programming | 6.00.2x Courseware | edX\n",
    "\n",
    "[Source](https://courses.edx.org/courses/course-v1:MITx+6.00.2x+1T2020/courseware/8d9a47872ed641a1ace050f1c1ba7ac7/4cb0675623054111a9ff05e30712f7e2/?child=first \"Permalink to Exercise 1 | Lecture 2 - Decision Trees and Dynamic Programming | 6.00.2x Courseware | edX\")\n",
    "\n",
    "Here is the [lecture from 6.00.1x on generators](https://www.youtube.com/watch?v=BLWn90kEYMk). Additionally, you can also take a look at Chapter 8.3 in the textbook.\n",
    "\n",
    "For the following problem, consider the following way to write a power set generator. The number of possible combinations to put n items into one bag is 2𝑛. Here, items is a Python list. If need be, also check out the [docs on bitwise operators](https://wiki.python.org/moin/BitwiseOperators) (\\<\\<, \\>\\>, &, |, ~, ^).\n",
    "\n",
    "    # generate all combinations of N items\n",
    "    def powerSet(items):\n",
    "        N = len(items)\n",
    "        # enumerate the 2**N possible combinations\n",
    "        for i in range(2**N):\n",
    "            combo = []\n",
    "            for j in range(N):\n",
    "                # test bit jth of integer i\n",
    "                if (i >> j) % 2 == 1:\n",
    "                    combo.append(items[j])\n",
    "            yield combo\n",
    "\n",
    "As above, suppose we have a generator that returns every combination of objects in one bag. We can represent this as a list of 1s and 0s denoting whether each item is in the bag or not.\n",
    "\n",
    "Write a generator that returns every arrangement of items such that each is in one or none of two different bags. Each combination should be given as a tuple of two lists, the first being the items in bag1, and the second being the items in bag2.\n",
    "\n",
    "    def yieldAllCombos(items):\n",
    "        \"\"\"\n",
    "          Generates all combinations of N items into two bags, whereby each \n",
    "          item is in one or zero bags.\n",
    "\n",
    "          Yields a tuple, (bag1, bag2), where each bag is represented as \n",
    "          a list of which item(s) are in each bag.\n",
    "        \"\"\"\n",
    "\n",
    "Note this generator should be pretty similar to the `powerSet` generator above.\n",
    "\n",
    "We mentioned that the number of possible combinations for N items into one bag is 2𝑛. How many possible combinations exist when there are two bags? Think about this for a few minutes, then click the following hint to confirm if your guess is correct. Remember that a given item can only be in bag1, bag2, or neither bag -- it is not possible for an item to be present in both bags!\n",
    "\n",
    "[How many possible combinations exist for N items into two bags?](https://courses.edx.org/courses/course-v1:MITx+6.00.2x+1T2020/courseware/8d9a47872ed641a1ace050f1c1ba7ac7/4cb0675623054111a9ff05e30712f7e2/?child=first#)\n",
    "\n",
    "* With two bags, there are 3^𝑛 possible combinations available.\n",
    "* With one bag we determined there were 2^𝑛 possible combinations available by representing the bag as a list of binary bits, 0 or 1. Since there are N bits, and they can be one of two possibilities, there must be 2^𝑛 possibilities.\n",
    "* With two bags there thus must be 3^𝑛 possible combinations. You can imagine this by representing the two bags as a list of \"trinary\" bits, 0, 1, or 2 (a 0 if an item is in neither bag; 1 if it is in bag1; 2 if it is in bag2). With the \"trinary\" bits, there are N bits that can each be one of three possibilities - thus there must be 3𝑛 possible combinations."
   ]
  },
  {
   "cell_type": "code",
   "execution_count": 33,
   "metadata": {},
   "outputs": [],
   "source": [
    "items = ['list1','list2','list3']"
   ]
  },
  {
   "cell_type": "code",
   "execution_count": 42,
   "metadata": {},
   "outputs": [],
   "source": [
    "# generate all combinations of N items\n",
    "def powerSet(items):\n",
    "    N = len(items)\n",
    "    # enumerate the 2**N possible combinations\n",
    "    for i in range(2**N):\n",
    "        combo = []\n",
    "        for j in range(N):\n",
    "            # test bit jth of integer i\n",
    "            if (i >> j) % 2 == 1:\n",
    "                combo.append(items[j])\n",
    "        yield combo"
   ]
  },
  {
   "cell_type": "code",
   "execution_count": 43,
   "metadata": {},
   "outputs": [
    {
     "name": "stdout",
     "output_type": "stream",
     "text": [
      "[]\n",
      "['list1']\n",
      "['list2']\n",
      "['list1', 'list2']\n",
      "['list3']\n",
      "['list1', 'list3']\n",
      "['list2', 'list3']\n",
      "['list1', 'list2', 'list3']\n"
     ]
    }
   ],
   "source": [
    "gt = powerSet(items)\n",
    "\n",
    "for i in range(2**len(items)):\n",
    "    print(gt.__next__())"
   ]
  },
  {
   "cell_type": "code",
   "execution_count": 49,
   "metadata": {},
   "outputs": [],
   "source": [
    "def yieldAllCombos(items):\n",
    "    \"\"\"\n",
    "        Generates all combinations of N items into two bags, whereby each\n",
    "        item is in one or zero bags.\n",
    "        Yields a tuple, (bag1, bag2), where each bag is represented as a list\n",
    "        of which item(s) are in each bag.\n",
    "    \"\"\"\n",
    "    N = len(items)\n",
    "    # enumerate the 3**N possible combinations\n",
    "    for i in range(3**N):\n",
    "        bag_1 = []\n",
    "        bag_2 = []\n",
    "        for j in range(N):\n",
    "            # test bit jth of integer i\n",
    "            if (i // 3**j) % 3 == 0:\n",
    "                bag_1.append(items[j])\n",
    "            elif (i // 3**j) % 3 == 1:\n",
    "                bag_2.append(items[j])\n",
    "        yield (bag_1, bag_2)\n"
   ]
  },
  {
   "cell_type": "code",
   "execution_count": 50,
   "metadata": {},
   "outputs": [
    {
     "name": "stdout",
     "output_type": "stream",
     "text": [
      "(['list1', 'list2', 'list3'], [])\n",
      "(['list2', 'list3'], ['list1'])\n",
      "(['list3'], ['list2'])\n",
      "(['list1', 'list3'], ['list2'])\n",
      "([], ['list1', 'list3'])\n",
      "([], ['list3'])\n",
      "(['list1', 'list2'], ['list3'])\n",
      "(['list2'], ['list1', 'list3'])\n",
      "([], ['list2'])\n",
      "(['list1'], ['list2'])\n",
      "([], ['list1'])\n",
      "([], [])\n",
      "(['list1', 'list2', 'list3'], [])\n",
      "(['list2', 'list3'], ['list1'])\n",
      "(['list3'], ['list2'])\n",
      "(['list1', 'list3'], ['list2'])\n",
      "([], ['list1', 'list3'])\n",
      "([], ['list3'])\n",
      "(['list1', 'list2'], ['list3'])\n",
      "(['list2'], ['list1', 'list3'])\n",
      "([], ['list2'])\n",
      "(['list1'], ['list2'])\n",
      "([], ['list1'])\n",
      "([], [])\n",
      "(['list1', 'list2', 'list3'], [])\n",
      "(['list2', 'list3'], ['list1'])\n",
      "(['list3'], ['list2'])\n"
     ]
    }
   ],
   "source": [
    "gt2 = yieldAllCombos(items)\n",
    "\n",
    "for i in range(3**len(items)):\n",
    "    print(gt2.__next__())"
   ]
  },
  {
   "cell_type": "code",
   "execution_count": null,
   "metadata": {},
   "outputs": [],
   "source": []
  },
  {
   "cell_type": "code",
   "execution_count": null,
   "metadata": {},
   "outputs": [],
   "source": []
  },
  {
   "cell_type": "code",
   "execution_count": null,
   "metadata": {},
   "outputs": [],
   "source": []
  }
 ],
 "metadata": {
  "kernelspec": {
   "display_name": "Python 3",
   "language": "python",
   "name": "python3"
  },
  "language_info": {
   "codemirror_mode": {
    "name": "ipython",
    "version": 3
   },
   "file_extension": ".py",
   "mimetype": "text/x-python",
   "name": "python",
   "nbconvert_exporter": "python",
   "pygments_lexer": "ipython3",
   "version": "3.6.9"
  }
 },
 "nbformat": 4,
 "nbformat_minor": 4
}
