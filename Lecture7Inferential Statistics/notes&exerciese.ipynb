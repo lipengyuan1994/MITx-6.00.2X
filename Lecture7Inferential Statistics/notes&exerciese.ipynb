{
 "cells": [
  {
   "cell_type": "markdown",
   "metadata": {},
   "source": [
    "## Exercise 2 Q5\n",
    "\n",
    "![](./pics/2020-05-04_12-32-43.png)"
   ]
  },
  {
   "cell_type": "markdown",
   "metadata": {},
   "source": [
    "## Exercise 3 \n",
    "\n",
    "[Source](https://courses.edx.org/courses/course-v1:MITx+6.00.2x+1T2020/courseware/44b64e16aa524037be90cd2aa3552ef6/0effc3fb8a2644b7b40031da64ddb960/?child=first \"Permalink to Exercise 3 | Lecture 7 - Inferential Statistics | 6.00.2x Courseware | edX\")\n",
    "\n",
    "Write a function, `stdDevOfLengths(L)` that takes in a list of strings, `L`, and outputs the standard deviation of the lengths of the strings. Return `float('NaN')` if `L` is empty.\n",
    "\n",
    "**Note: If you want to use functions from the math library, be sure to `import math`. If you want to use numpy arrays, you should add the following lines at the beginning of your code for the grader:**\n",
    "`import os`\n",
    "`os.environ[\"OPENBLAS_NUM_THREADS\"] = \"1\"`\n",
    " Then, do `import numpy as np` and use `np.METHOD_NAME` in your code."
   ]
  },
  {
   "cell_type": "code",
   "execution_count": 11,
   "metadata": {},
   "outputs": [],
   "source": [
    "def stdDevOfLengths(L):\n",
    "    \"\"\"\n",
    "    L: a list of strings\n",
    "\n",
    "    returns: float, the standard deviation of the lengths of the strings,\n",
    "      or NaN if L is empty.\n",
    "    \"\"\"\n",
    "    if len(L) == 0:\n",
    "        return float('NaN')\n",
    "    import os\n",
    "    os.environ[\"OPENBLAS_NUM_THREADS\"] = \"1\"\n",
    "    total_len = []\n",
    "    for s in L:\n",
    "        total_len.append(len(s))\n",
    "    mean = sum(total_len)/len(total_len)\n",
    "    tot = 0.0\n",
    "    for x in total_len:\n",
    "        tot += (x - mean)**2\n",
    "    std = (tot/len(total_len))**0.5\n",
    "   \n",
    "    return std"
   ]
  },
  {
   "cell_type": "markdown",
   "metadata": {},
   "source": [
    "## Exercise 4\n",
    "\n",
    "Q3 Compute the coefficient of variation of [10, 4, 12, 15, 20, 5] to 3 decimal places."
   ]
  },
  {
   "cell_type": "code",
   "execution_count": 16,
   "metadata": {},
   "outputs": [
    {
     "data": {
      "text/plain": [
       "0.5034317492677621"
      ]
     },
     "execution_count": 16,
     "metadata": {},
     "output_type": "execute_result"
    }
   ],
   "source": [
    "from scipy import stats\n",
    "stats.variation([10, 4, 12, 15, 20, 5])"
   ]
  },
  {
   "cell_type": "markdown",
   "metadata": {},
   "source": [
    "## Exercise 5\n",
    "\n",
    "\n",
    "![](./pics/2020-05-04_14-13-41.png)"
   ]
  },
  {
   "cell_type": "markdown",
   "metadata": {},
   "source": [
    "## Exercise 6\n",
    "\n",
    "![](./pics/2020-05-04_14-19-49.png)"
   ]
  },
  {
   "cell_type": "code",
   "execution_count": null,
   "metadata": {},
   "outputs": [],
   "source": []
  }
 ],
 "metadata": {
  "kernelspec": {
   "display_name": "Python 3",
   "language": "python",
   "name": "python3"
  },
  "language_info": {
   "codemirror_mode": {
    "name": "ipython",
    "version": 3
   },
   "file_extension": ".py",
   "mimetype": "text/x-python",
   "name": "python",
   "nbconvert_exporter": "python",
   "pygments_lexer": "ipython3",
   "version": "3.6.9"
  }
 },
 "nbformat": 4,
 "nbformat_minor": 4
}
