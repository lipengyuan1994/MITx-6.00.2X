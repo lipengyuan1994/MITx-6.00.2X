{
 "cells": [
  {
   "cell_type": "code",
   "execution_count": 4,
   "metadata": {},
   "outputs": [
    {
     "name": "stdout",
     "output_type": "stream",
     "text": [
      "[['c', 'a', 'b']]\n",
      "[['c', 'b'], ['a']]\n",
      "[['c', 'a'], ['b']]\n",
      "[['c'], ['a', 'b']]\n",
      "[['c'], ['b'], ['a']]\n"
     ]
    }
   ],
   "source": [
    "%run ps1_partition.py"
   ]
  },
  {
   "cell_type": "code",
   "execution_count": 5,
   "metadata": {},
   "outputs": [
    {
     "name": "stdout",
     "output_type": "stream",
     "text": [
      "[['c', 'a', 'b']]\n",
      "[['c', 'b'], ['a']]\n",
      "[['c', 'a'], ['b']]\n",
      "[['c'], ['a', 'b']]\n",
      "[['c'], ['b'], ['a']]\n",
      "{'Maggie': 3, 'Herman': 7, 'Betsy': 9, 'Oreo': 6, 'Moo Moo': 3, 'Milkshake': 2, 'Millie': 5, 'Lola': 2, 'Florence': 2, 'Henrietta': 9}\n",
      "[['Betsy', 'Henrietta', 'Herman', 'Oreo', 'Millie', 'Maggie', 'Moo Moo', 'Milkshake', 'Lola', 'Florence']]\n",
      "None\n"
     ]
    }
   ],
   "source": [
    "%run ps1.py"
   ]
  },
  {
   "cell_type": "code",
   "execution_count": 7,
   "metadata": {},
   "outputs": [
    {
     "data": {
      "text/plain": [
       "{'Maggie': 3,\n",
       " 'Herman': 7,\n",
       " 'Betsy': 9,\n",
       " 'Oreo': 6,\n",
       " 'Moo Moo': 3,\n",
       " 'Milkshake': 2,\n",
       " 'Millie': 5,\n",
       " 'Lola': 2,\n",
       " 'Florence': 2,\n",
       " 'Henrietta': 9}"
      ]
     },
     "execution_count": 7,
     "metadata": {},
     "output_type": "execute_result"
    }
   ],
   "source": [
    "cows"
   ]
  },
  {
   "cell_type": "code",
   "execution_count": 11,
   "metadata": {},
   "outputs": [
    {
     "name": "stdout",
     "output_type": "stream",
     "text": [
      "<generator object get_partitions at 0x10bf41360>\n"
     ]
    }
   ],
   "source": [
    "get_partitions(cows)"
   ]
  },
  {
   "cell_type": "code",
   "execution_count": null,
   "metadata": {},
   "outputs": [],
   "source": [
    "# Problem 2\n",
    "def brute_force_cow_transport(cows, limit=10):\n",
    "    \"\"\"\n",
    "    Finds the allocation of cows that minimizes the number of spaceship trips\n",
    "    via brute force.  The brute force algorithm should follow the following method:\n",
    "\n",
    "    1. Enumerate all possible ways that the cows can be divided into separate trips\n",
    "    2. Select the allocation that minimizes the number of trips without making any trip\n",
    "        that does not obey the weight limitation\n",
    "            \n",
    "    Does not mutate the given dictionary of cows.\n",
    "\n",
    "    Parameters:\n",
    "    cows - a dictionary of name (string), weight (int) pairs\n",
    "    limit - weight limit of the spaceship (an int)\n",
    "    \n",
    "    Returns:\n",
    "    A list of lists, with each inner list containing the names of cows\n",
    "    transported on a particular trip and the overall list containing all the\n",
    "    trips\n",
    "    \"\"\"\n",
    "    \n",
    "    power_list = get_partitions(cows)\n",
    "    result = []\n",
    "    for sequence in power_list:\n",
    "        # get weight of each trip, if exceeds limit, drop\n",
    "        for eachTrip in sequence:\n",
    "            weight = 0\n",
    "            exceed = False\n",
    "            for e in eachTrip:\n",
    "                weight += cows[e]\n",
    "            if weight > limit:\n",
    "                exceed = True\n",
    "                break\n",
    "        # not exceed, shorted than exited, take\n",
    "        if not exceed:\n",
    "            if len(result) == 0:\n",
    "                result = sequence\n",
    "            elif len(sequence) < len(result):\n",
    "                result = sequence\n",
    "    return result\n",
    "    "
   ]
  }
 ],
 "metadata": {
  "kernelspec": {
   "display_name": "Python 3",
   "language": "python",
   "name": "python3"
  },
  "language_info": {
   "codemirror_mode": {
    "name": "ipython",
    "version": 3
   },
   "file_extension": ".py",
   "mimetype": "text/x-python",
   "name": "python",
   "nbconvert_exporter": "python",
   "pygments_lexer": "ipython3",
   "version": "3.6.9"
  }
 },
 "nbformat": 4,
 "nbformat_minor": 4
}
