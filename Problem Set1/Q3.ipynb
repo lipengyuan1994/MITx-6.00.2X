{
 "cells": [
  {
   "cell_type": "code",
   "execution_count": 6,
   "metadata": {},
   "outputs": [
    {
     "name": "stdout",
     "output_type": "stream",
     "text": [
      "{'Maggie': 3, 'Herman': 7, 'Betsy': 9, 'Oreo': 6, 'Moo Moo': 3, 'Milkshake': 2, 'Millie': 5, 'Lola': 2, 'Florence': 2, 'Henrietta': 9}\n",
      "[['Betsy', 'Henrietta', 'Herman', 'Oreo', 'Millie', 'Maggie', 'Moo Moo', 'Milkshake', 'Lola', 'Florence']]\n",
      "[['Herman', 'Maggie', 'Milkshake', 'Henrietta', 'Millie', 'Florence', 'Betsy', 'Moo Moo', 'Lola', 'Oreo']]\n"
     ]
    }
   ],
   "source": [
    "%run ps1.py"
   ]
  },
  {
   "cell_type": "code",
   "execution_count": 8,
   "metadata": {},
   "outputs": [
    {
     "name": "stdout",
     "output_type": "stream",
     "text": [
      "[['Betsy'], ['Henrietta'], ['Herman', 'Maggie'], ['Oreo', 'Moo Moo'], ['Millie', 'Milkshake', 'Lola'], ['Florence']]\n",
      "0.0005171298980712891\n",
      "[['Henrietta'], ['Lola', 'Florence', 'Oreo'], ['Millie', 'Milkshake', 'Moo Moo'], ['Betsy'], ['Herman', 'Maggie']]\n",
      "0.76894211769104\n"
     ]
    }
   ],
   "source": [
    "compare_cow_transport_algorithms()"
   ]
  },
  {
   "cell_type": "code",
   "execution_count": 10,
   "metadata": {},
   "outputs": [
    {
     "name": "stdout",
     "output_type": "stream",
     "text": [
      "[['Betsy'], ['Henrietta'], ['Herman', 'Maggie'], ['Oreo', 'Moo Moo'], ['Millie', 'Milkshake', 'Lola'], ['Florence']]\n",
      "0.0058460235595703125\n",
      "[['Henrietta'], ['Lola', 'Florence', 'Oreo'], ['Millie', 'Milkshake', 'Moo Moo'], ['Betsy'], ['Herman', 'Maggie']]\n",
      "0.9772179126739502\n"
     ]
    }
   ],
   "source": [
    "compare_cow_transport_algorithms()"
   ]
  },
  {
   "cell_type": "code",
   "execution_count": null,
   "metadata": {},
   "outputs": [],
   "source": []
  }
 ],
 "metadata": {
  "kernelspec": {
   "display_name": "Python 3",
   "language": "python",
   "name": "python3"
  },
  "language_info": {
   "codemirror_mode": {
    "name": "ipython",
    "version": 3
   },
   "file_extension": ".py",
   "mimetype": "text/x-python",
   "name": "python",
   "nbconvert_exporter": "python",
   "pygments_lexer": "ipython3",
   "version": "3.6.9"
  }
 },
 "nbformat": 4,
 "nbformat_minor": 4
}
