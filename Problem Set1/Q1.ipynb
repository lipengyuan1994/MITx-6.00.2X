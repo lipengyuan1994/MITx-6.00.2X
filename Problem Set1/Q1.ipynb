{
 "cells": [
  {
   "cell_type": "code",
   "execution_count": 3,
   "metadata": {},
   "outputs": [
    {
     "name": "stdout",
     "output_type": "stream",
     "text": [
      "{'Maggie': 3, 'Herman': 7, 'Betsy': 9, 'Oreo': 6, 'Moo Moo': 3, 'Milkshake': 2, 'Millie': 5, 'Lola': 2, 'Florence': 2, 'Henrietta': 9}\n",
      "None\n",
      "None\n"
     ]
    }
   ],
   "source": [
    "from ps1 import *"
   ]
  },
  {
   "cell_type": "code",
   "execution_count": 4,
   "metadata": {},
   "outputs": [
    {
     "data": {
      "text/plain": [
       "{'Maggie': 3,\n",
       " 'Herman': 7,\n",
       " 'Betsy': 9,\n",
       " 'Oreo': 6,\n",
       " 'Moo Moo': 3,\n",
       " 'Milkshake': 2,\n",
       " 'Millie': 5,\n",
       " 'Lola': 2,\n",
       " 'Florence': 2,\n",
       " 'Henrietta': 9}"
      ]
     },
     "execution_count": 4,
     "metadata": {},
     "output_type": "execute_result"
    }
   ],
   "source": [
    "cows"
   ]
  },
  {
   "cell_type": "code",
   "execution_count": 26,
   "metadata": {},
   "outputs": [],
   "source": [
    "cows_r = {k: v for k, v in sorted(cows.items(), key=lambda item: item[1], reverse=True)}"
   ]
  },
  {
   "cell_type": "code",
   "execution_count": 27,
   "metadata": {},
   "outputs": [
    {
     "data": {
      "text/plain": [
       "{'Betsy': 9,\n",
       " 'Henrietta': 9,\n",
       " 'Herman': 7,\n",
       " 'Oreo': 6,\n",
       " 'Millie': 5,\n",
       " 'Maggie': 3,\n",
       " 'Moo Moo': 3,\n",
       " 'Milkshake': 2,\n",
       " 'Lola': 2,\n",
       " 'Florence': 2}"
      ]
     },
     "execution_count": 27,
     "metadata": {},
     "output_type": "execute_result"
    }
   ],
   "source": [
    "cows_r"
   ]
  },
  {
   "cell_type": "code",
   "execution_count": 130,
   "metadata": {},
   "outputs": [],
   "source": [
    "items = [i for i in cows_r.items()]"
   ]
  },
  {
   "cell_type": "code",
   "execution_count": 132,
   "metadata": {},
   "outputs": [
    {
     "data": {
      "text/plain": [
       "[('Betsy', 9),\n",
       " ('Henrietta', 9),\n",
       " ('Herman', 7),\n",
       " ('Oreo', 6),\n",
       " ('Millie', 5),\n",
       " ('Maggie', 3),\n",
       " ('Moo Moo', 3),\n",
       " ('Milkshake', 2),\n",
       " ('Lola', 2),\n",
       " ('Florence', 2)]"
      ]
     },
     "execution_count": 132,
     "metadata": {},
     "output_type": "execute_result"
    }
   ],
   "source": [
    "items"
   ]
  },
  {
   "cell_type": "code",
   "execution_count": 134,
   "metadata": {},
   "outputs": [],
   "source": [
    "items.remove(('Betsy', 9))"
   ]
  },
  {
   "cell_type": "code",
   "execution_count": null,
   "metadata": {},
   "outputs": [],
   "source": []
  },
  {
   "cell_type": "code",
   "execution_count": null,
   "metadata": {},
   "outputs": [],
   "source": []
  },
  {
   "cell_type": "code",
   "execution_count": 144,
   "metadata": {},
   "outputs": [],
   "source": [
    "def greedy_cow_transport(cows, limit=10):\n",
    "    \"\"\"\n",
    "    Uses a greedy heuristic to determine an allocation of cows that attempts to\n",
    "    minimize the number of spaceship trips needed to transport all the cows. The\n",
    "    returned allocation of cows may or may not be optimal.\n",
    "    The greedy heuristic should follow the following method:\n",
    "    1. As long as the current trip can fit another cow, add the largest cow that will fit\n",
    "        to the trip\n",
    "    2. Once the trip is full, begin a new trip to transport the remaining cows\n",
    "    Does not mutate the given dictionary of cows.\n",
    "    Parameters:\n",
    "    cows - a dictionary of name (string), weight (int) pairs\n",
    "    limit - weight limit of the spaceship (an int)\n",
    "    \n",
    "    Returns:\n",
    "    A list of lists, with each inner list containing the names of cows\n",
    "    transported on a particular trip and the overall list containing all the\n",
    "    trips\n",
    "    \"\"\"\n",
    "    # TODO: Your code here\n",
    "    trips = []\n",
    "    cowsCopy = cows.copy()\n",
    "    sortedCows = sorted(cowsCopy.items(), key=lambda x: x[1], reverse = True)\n",
    "    while sum(cowsCopy.values()) > 0:\n",
    "        ship = []\n",
    "        total = 0\n",
    "        for cow, value in sortedCows:\n",
    "            if cowsCopy[cow] != 0 and value + total <= limit:\n",
    "                ship.append(cow)\n",
    "                total += value\n",
    "                cowsCopy[cow] = 0\n",
    "            if ship not in trips:\n",
    "                trips.append(ship)\n",
    "            \n",
    "    return trips"
   ]
  },
  {
   "cell_type": "code",
   "execution_count": 145,
   "metadata": {},
   "outputs": [],
   "source": [
    "test  =  greedy_cow_transport(cows, 20)"
   ]
  },
  {
   "cell_type": "code",
   "execution_count": 146,
   "metadata": {},
   "outputs": [
    {
     "data": {
      "text/plain": [
       "[['Betsy', 'Henrietta', 'Milkshake'],\n",
       " ['Herman', 'Oreo', 'Millie', 'Lola'],\n",
       " ['Maggie', 'Moo Moo', 'Florence']]"
      ]
     },
     "execution_count": 146,
     "metadata": {},
     "output_type": "execute_result"
    }
   ],
   "source": [
    "test"
   ]
  },
  {
   "cell_type": "code",
   "execution_count": 147,
   "metadata": {},
   "outputs": [
    {
     "data": {
      "text/plain": [
       "[['MooMoo', 'Miss Bella'],\n",
       " ['Milkshake', 'Polaris', 'Clover'],\n",
       " ['Muscles', 'Lotus'],\n",
       " ['Patches'],\n",
       " ['Horns', 'Louis']]"
      ]
     },
     "execution_count": 147,
     "metadata": {},
     "output_type": "execute_result"
    }
   ],
   "source": [
    "greedy_cow_transport({'Horns': 50, 'Miss Bella': 15, 'Milkshake': 75, 'Polaris': 20, 'Patches': 60, 'Lotus': 10, 'MooMoo': 85, 'Louis': 45, 'Muscles': 65, 'Clover': 5}, 100)"
   ]
  },
  {
   "cell_type": "code",
   "execution_count": 148,
   "metadata": {},
   "outputs": [
    {
     "data": {
      "text/plain": [
       "[['Dottie', 'Patches'],\n",
       " ['Buttercup', 'Lilly'],\n",
       " ['Betsy', 'Willow'],\n",
       " ['Rose', 'Daisy'],\n",
       " ['Abby', 'Coco']]"
      ]
     },
     "execution_count": 148,
     "metadata": {},
     "output_type": "execute_result"
    }
   ],
   "source": [
    "greedy_cow_transport({'Willow': 35, 'Rose': 50, 'Buttercup': 72, 'Lilly': 24, 'Betsy': 65, 'Patches': 12, 'Abby': 38, 'Coco': 10, 'Dottie': 85, 'Daisy': 50}, 100)"
   ]
  },
  {
   "cell_type": "code",
   "execution_count": 149,
   "metadata": {},
   "outputs": [],
   "source": [
    "o_weights = [weight for key, weight in cows.items()]"
   ]
  },
  {
   "cell_type": "code",
   "execution_count": 150,
   "metadata": {},
   "outputs": [
    {
     "data": {
      "text/plain": [
       "[3, 7, 9, 6, 3, 2, 5, 2, 2, 9]"
      ]
     },
     "execution_count": 150,
     "metadata": {},
     "output_type": "execute_result"
    }
   ],
   "source": [
    "o_weights"
   ]
  },
  {
   "cell_type": "code",
   "execution_count": 49,
   "metadata": {},
   "outputs": [],
   "source": [
    "o_weights.remove(9)"
   ]
  },
  {
   "cell_type": "code",
   "execution_count": 50,
   "metadata": {},
   "outputs": [
    {
     "data": {
      "text/plain": [
       "[3, 7, 6, 3, 2, 5, 2, 2]"
      ]
     },
     "execution_count": 50,
     "metadata": {},
     "output_type": "execute_result"
    }
   ],
   "source": [
    "o_weights"
   ]
  },
  {
   "cell_type": "code",
   "execution_count": null,
   "metadata": {},
   "outputs": [],
   "source": []
  }
 ],
 "metadata": {
  "kernelspec": {
   "display_name": "Python 3",
   "language": "python",
   "name": "python3"
  },
  "language_info": {
   "codemirror_mode": {
    "name": "ipython",
    "version": 3
   },
   "file_extension": ".py",
   "mimetype": "text/x-python",
   "name": "python",
   "nbconvert_exporter": "python",
   "pygments_lexer": "ipython3",
   "version": "3.6.9"
  }
 },
 "nbformat": 4,
 "nbformat_minor": 4
}
