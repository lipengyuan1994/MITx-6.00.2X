{
 "cells": [
  {
   "cell_type": "markdown",
   "metadata": {},
   "source": [
    "![Imgur](https://i.imgur.com/9OWXJfm.png)\n",
    "\n",
    "\n",
    "![Imgur](https://i.imgur.com/PApxJ39.png)\n",
    "![Imgur](https://i.imgur.com/rNYyv95.png)\n",
    "![Imgur](https://i.imgur.com/uHJBHGB.png)"
   ]
  },
  {
   "cell_type": "code",
   "execution_count": 7,
   "metadata": {},
   "outputs": [],
   "source": [
    "import random\n",
    "def genEven():\n",
    "    '''\n",
    "    Returns a random even number x, where 0 <= x < 100\n",
    "    '''\n",
    "    list_e = [i for i in range (0,100) if i%2==0]\n",
    "    return random.choice(list_e)\n",
    "\n",
    "def genEven():\n",
    "    return random.randrange(0, 100, 2)\n",
    "\n",
    "def genEven():\n",
    "    return random.choice(range(0, 100, 2))\n",
    "\n",
    "def genEven():\n",
    "    return int(random.random() * 50)*2\n",
    "\n",
    "def genEven():\n",
    "    return random.choice(range(0, 50))*2"
   ]
  },
  {
   "cell_type": "markdown",
   "metadata": {},
   "source": [
    "Write a deterministic program, deterministicNumber, that returns an even number between 9 and 21."
   ]
  },
  {
   "cell_type": "code",
   "execution_count": 17,
   "metadata": {},
   "outputs": [],
   "source": [
    "def deterministicNumber():\n",
    "    random.seed(0) # This will be discussed in the video \"Drunken Simulations\"\n",
    "    return 2 * random.randint(5, 10)"
   ]
  },
  {
   "cell_type": "code",
   "execution_count": 15,
   "metadata": {},
   "outputs": [
    {
     "data": {
      "text/plain": [
       "10"
      ]
     },
     "execution_count": 15,
     "metadata": {},
     "output_type": "execute_result"
    }
   ],
   "source": [
    "deterministicNumber()"
   ]
  },
  {
   "cell_type": "markdown",
   "metadata": {},
   "source": [
    "Write a uniformly distributed stochastic program, stochasticNumber, that returns an even number between 9 and 21."
   ]
  },
  {
   "cell_type": "code",
   "execution_count": null,
   "metadata": {},
   "outputs": [],
   "source": [
    "def stochasticNumber():\n",
    "    return random.randrange(10, 22, 2)"
   ]
  },
  {
   "cell_type": "code",
   "execution_count": null,
   "metadata": {},
   "outputs": [],
   "source": []
  },
  {
   "cell_type": "code",
   "execution_count": null,
   "metadata": {},
   "outputs": [],
   "source": []
  },
  {
   "cell_type": "code",
   "execution_count": 28,
   "metadata": {},
   "outputs": [
    {
     "data": {
      "text/plain": [
       "8"
      ]
     },
     "execution_count": 28,
     "metadata": {},
     "output_type": "execute_result"
    }
   ],
   "source": [
    "int(random.random()*10)"
   ]
  },
  {
   "cell_type": "code",
   "execution_count": 30,
   "metadata": {},
   "outputs": [
    {
     "data": {
      "text/plain": [
       "0"
      ]
     },
     "execution_count": 30,
     "metadata": {},
     "output_type": "execute_result"
    }
   ],
   "source": [
    "random.randrange(0, 10)"
   ]
  },
  {
   "cell_type": "markdown",
   "metadata": {},
   "source": [
    "he random.random() distribution is uniform, and so is the random.randint() distribution. However unlike random.randrange(start, end), random.randint(start, end) returns a distribution that is inclusive of both the given start and end points.\n",
    "\n",
    "Thus dist5 is a discrete uniform distribution over [0, 1, 2, 3, 4, 5, 6, 7, 8, 9], but dist6 is a discrete uniform distribution over [0, 1, 2, 3, 4, 5, 6, 7, 8, 9, 10].\n",
    "\n",
    "You can code a simple simulation to see what a distribution looks like using dictionaries:"
   ]
  },
  {
   "cell_type": "code",
   "execution_count": 31,
   "metadata": {},
   "outputs": [],
   "source": [
    "d1 = {}\n",
    "for i in range(10000):\n",
    "    x = random.randrange(10) \n",
    "    d1[x] = d1.get(x, 0) + 1\n",
    "d2 = {}\n",
    "for i in range(10000):\n",
    "    x = int(random.random()*10)\n",
    "    d2[x] = d2.get(x, 0) + 1\n",
    "d3 = {}\n",
    "for i in range(10000):\n",
    "    x = random.randint(0, 10)\n",
    "    d3[x] = d3.get(x, 0) + 1"
   ]
  },
  {
   "cell_type": "code",
   "execution_count": 32,
   "metadata": {},
   "outputs": [
    {
     "data": {
      "text/plain": [
       "{5: 1050,\n",
       " 7: 1019,\n",
       " 3: 1006,\n",
       " 4: 979,\n",
       " 6: 1040,\n",
       " 1: 1006,\n",
       " 0: 1013,\n",
       " 8: 937,\n",
       " 9: 980,\n",
       " 2: 970}"
      ]
     },
     "execution_count": 32,
     "metadata": {},
     "output_type": "execute_result"
    }
   ],
   "source": [
    "d1"
   ]
  },
  {
   "cell_type": "code",
   "execution_count": 33,
   "metadata": {},
   "outputs": [
    {
     "data": {
      "text/plain": [
       "{1: 1008,\n",
       " 0: 954,\n",
       " 4: 975,\n",
       " 5: 1054,\n",
       " 2: 982,\n",
       " 9: 992,\n",
       " 7: 1023,\n",
       " 6: 1008,\n",
       " 3: 1028,\n",
       " 8: 976}"
      ]
     },
     "execution_count": 33,
     "metadata": {},
     "output_type": "execute_result"
    }
   ],
   "source": [
    "d2"
   ]
  },
  {
   "cell_type": "code",
   "execution_count": 34,
   "metadata": {},
   "outputs": [
    {
     "data": {
      "text/plain": [
       "{4: 933,\n",
       " 9: 869,\n",
       " 2: 886,\n",
       " 0: 924,\n",
       " 10: 964,\n",
       " 8: 901,\n",
       " 3: 890,\n",
       " 1: 905,\n",
       " 7: 917,\n",
       " 6: 898,\n",
       " 5: 913}"
      ]
     },
     "execution_count": 34,
     "metadata": {},
     "output_type": "execute_result"
    }
   ],
   "source": [
    "d3"
   ]
  },
  {
   "cell_type": "code",
   "execution_count": null,
   "metadata": {},
   "outputs": [],
   "source": []
  }
 ],
 "metadata": {
  "kernelspec": {
   "display_name": "Python 3",
   "language": "python",
   "name": "python3"
  },
  "language_info": {
   "codemirror_mode": {
    "name": "ipython",
    "version": 3
   },
   "file_extension": ".py",
   "mimetype": "text/x-python",
   "name": "python",
   "nbconvert_exporter": "python",
   "pygments_lexer": "ipython3",
   "version": "3.7.6"
  }
 },
 "nbformat": 4,
 "nbformat_minor": 4
}
