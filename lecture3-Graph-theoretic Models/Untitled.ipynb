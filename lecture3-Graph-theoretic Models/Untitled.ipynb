{
 "cells": [
  {
   "cell_type": "code",
   "execution_count": 5,
   "metadata": {},
   "outputs": [
    {
     "name": "stdout",
     "output_type": "stream",
     "text": [
      "Boston->Providence\n",
      "Boston->New York\n",
      "Providence->Boston\n",
      "Providence->New York\n",
      "New York->Chicago\n",
      "Chicago->Denver\n",
      "Denver->Phoenix\n",
      "Denver->New York\n",
      "Los Angeles->Boston\n",
      "**************************************************\n",
      "Boston->Providence\n",
      "Boston->New York\n",
      "Boston->Providence\n",
      "Boston->Los Angeles\n",
      "Providence->Boston\n",
      "Providence->Boston\n",
      "Providence->New York\n",
      "New York->Boston\n",
      "New York->Providence\n",
      "New York->Chicago\n",
      "New York->Denver\n",
      "Chicago->New York\n",
      "Chicago->Denver\n",
      "Denver->Chicago\n",
      "Denver->Phoenix\n",
      "Denver->New York\n",
      "Phoenix->Denver\n",
      "Los Angeles->Boston\n"
     ]
    }
   ],
   "source": [
    "%run ./lecture3Segment2.py"
   ]
  },
  {
   "cell_type": "markdown",
   "metadata": {},
   "source": [
    "## Exercise 2"
   ]
  },
  {
   "cell_type": "code",
   "execution_count": 6,
   "metadata": {},
   "outputs": [],
   "source": [
    "nodes = []\n",
    "nodes.append(Node(\"ABC\")) # nodes[0]\n",
    "nodes.append(Node(\"ACB\")) # nodes[1]\n",
    "nodes.append(Node(\"BAC\")) # nodes[2]\n",
    "nodes.append(Node(\"BCA\")) # nodes[3]\n",
    "nodes.append(Node(\"CAB\")) # nodes[4]\n",
    "nodes.append(Node(\"CBA\")) # nodes[5]\n",
    "\n",
    "g = Graph()\n",
    "for n in nodes:\n",
    "    g.addNode(n)"
   ]
  },
  {
   "cell_type": "code",
   "execution_count": 7,
   "metadata": {},
   "outputs": [],
   "source": [
    "g.addEdge(Edge(g.getNode('ABC'),g.getNode('ACB')))\n",
    "g.addEdge(Edge(g.getNode('ABC'),g.getNode('BAC')))\n",
    "# g.addEdge(Edge(g.getNode('ACB'),g.getNode('ABC')))\n",
    "g.addEdge(Edge(g.getNode('ACB'),g.getNode('CAB')))\n",
    "g.addEdge(Edge(g.getNode('BAC'),g.getNode('BCA')))\n",
    "# g.addEdge(Edge(g.getNode('BAC'),g.getNode('ABC')))\n",
    "# g.addEdge(Edge(g.getNode('CAB'),g.getNode('ACB')))\n",
    "g.addEdge(Edge(g.getNode('CAB'),g.getNode('CBA')))\n",
    "g.addEdge(Edge(g.getNode('CBA'),g.getNode('BCA')))\n",
    "g.addEdge(Edge(g.getNode('CBA'),g.getNode('CAB')))"
   ]
  },
  {
   "cell_type": "code",
   "execution_count": 8,
   "metadata": {},
   "outputs": [
    {
     "name": "stdout",
     "output_type": "stream",
     "text": [
      "ABC->ACB\n",
      "ABC->BAC\n",
      "ABC->ACB\n",
      "ABC->BAC\n",
      "ACB->ABC\n",
      "ACB->ABC\n",
      "ACB->CAB\n",
      "ACB->CAB\n",
      "BAC->ABC\n",
      "BAC->BCA\n",
      "BAC->ABC\n",
      "BCA->BAC\n",
      "BCA->CBA\n",
      "CAB->ACB\n",
      "CAB->ACB\n",
      "CAB->CBA\n",
      "CAB->CBA\n",
      "CBA->CAB\n",
      "CBA->BCA\n",
      "CBA->CAB\n"
     ]
    }
   ],
   "source": [
    "print (g)\n"
   ]
  },
  {
   "cell_type": "code",
   "execution_count": null,
   "metadata": {},
   "outputs": [],
   "source": []
  }
 ],
 "metadata": {
  "kernelspec": {
   "display_name": "Python 3",
   "language": "python",
   "name": "python3"
  },
  "language_info": {
   "codemirror_mode": {
    "name": "ipython",
    "version": 3
   },
   "file_extension": ".py",
   "mimetype": "text/x-python",
   "name": "python",
   "nbconvert_exporter": "python",
   "pygments_lexer": "ipython3",
   "version": "3.6.9"
  }
 },
 "nbformat": 4,
 "nbformat_minor": 4
}
